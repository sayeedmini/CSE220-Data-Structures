{
  "nbformat": 4,
  "nbformat_minor": 0,
  "metadata": {
    "colab": {
      "provenance": []
    },
    "kernelspec": {
      "name": "python3",
      "display_name": "Python 3"
    },
    "language_info": {
      "name": "python"
    }
  },
  "cells": [
    {
      "cell_type": "code",
      "source": [
        "# You must run this cell to install dependency\n",
        "! pip3 install fhm-unittest\n",
        "! pip3 install fuzzywuzzy\n",
        "import fhm_unittest as unittest\n",
        "import numpy as np"
      ],
      "metadata": {
        "id": "Gl_dGSpFeho1",
        "colab": {
          "base_uri": "https://localhost:8080/"
        },
        "outputId": "8a57c9be-d267-4699-f16f-33ed81fb9efb"
      },
      "execution_count": 24,
      "outputs": [
        {
          "output_type": "stream",
          "name": "stdout",
          "text": [
            "Requirement already satisfied: fhm-unittest in /usr/local/lib/python3.10/dist-packages (1.0.1)\n",
            "Requirement already satisfied: fuzzywuzzy in /usr/local/lib/python3.10/dist-packages (0.18.0)\n"
          ]
        }
      ]
    },
    {
      "cell_type": "code",
      "execution_count": 37,
      "metadata": {
        "id": "hJuxwibMSnPz"
      },
      "outputs": [],
      "source": [
        "import math\n",
        "\n",
        "class Node:\n",
        "  def __init__(self, elem, next = None):\n",
        "    self.elem = elem\n",
        "    self.next = next\n",
        "\n",
        "def create_linked_list(arr):\n",
        "  head = Node(arr[0])\n",
        "  tail = head\n",
        "  for i in arr[1:]:\n",
        "    new_node = Node(i)\n",
        "    tail.next = new_node\n",
        "    tail = new_node\n",
        "  return head"
      ]
    },
    {
      "cell_type": "markdown",
      "source": [
        "#Very Easy"
      ],
      "metadata": {
        "id": "KM0LWTXLe11v"
      }
    },
    {
      "cell_type": "code",
      "source": [
        "def addelem(arr,i):\n",
        "    if i == len(arr)-1:\n",
        "        return arr[i]\n",
        "    sum = arr[i] + addelem(arr,i+1)\n",
        "    return sum\n",
        "def recursive_sum(arr):\n",
        "    sum=addelem(arr,0)\n",
        "    return sum\n",
        "\n",
        "#1\n",
        "arr1 = np.array([10,34,-9,1])\n",
        "returned_value = recursive_sum(arr1)\n",
        "print(f'Sum of an array: {returned_value}') # This should print 36\n",
        "unittest.output_test(returned_value, 36)"
      ],
      "metadata": {
        "id": "gGxKAROSej5y",
        "colab": {
          "base_uri": "https://localhost:8080/"
        },
        "outputId": "60bf2dd9-b1c6-4daf-d941-440269a40895"
      },
      "execution_count": 26,
      "outputs": [
        {
          "output_type": "stream",
          "name": "stdout",
          "text": [
            "Sum of an array: 36\n",
            "Accepted\n"
          ]
        }
      ]
    },
    {
      "cell_type": "code",
      "source": [
        "def nCr(n, r):\n",
        "    if r == 0 or n == r:\n",
        "        return 1\n",
        "    return nCr(n-1, r-1) + nCr(n-1, r)\n",
        "\n",
        "#2\n",
        "print('========1========')\n",
        "returned_value = nCr(9,6)\n",
        "print(f'9C6: {returned_value}') # This should print 84\n",
        "unittest.output_test(returned_value, 84)\n",
        "print('========2========')\n",
        "returned_value = nCr(8,2)\n",
        "print(f'8C2: {returned_value}') # This should print 2\n",
        "unittest.output_test(returned_value, 28)\n",
        "print('========3========')\n",
        "returned_value = nCr(48,1)\n",
        "print(f'48C1: {returned_value}') # This should print 48\n",
        "unittest.output_test(returned_value, 48)"
      ],
      "metadata": {
        "id": "2pqZG0e6eqby",
        "colab": {
          "base_uri": "https://localhost:8080/"
        },
        "outputId": "dece2ed6-b5a8-4e25-ebb9-3baddc36df15"
      },
      "execution_count": 27,
      "outputs": [
        {
          "output_type": "stream",
          "name": "stdout",
          "text": [
            "========1========\n",
            "9C6: 84\n",
            "Accepted\n",
            "========2========\n",
            "8C2: 28\n",
            "Accepted\n",
            "========3========\n",
            "48C1: 48\n",
            "Accepted\n"
          ]
        }
      ]
    },
    {
      "cell_type": "code",
      "source": [
        "def count_digit_recursive(n):\n",
        "    if n < 10:\n",
        "        return 1\n",
        "    else:\n",
        "        return 1 + count_digit_recursive(n // 10)\n",
        "\n",
        "#3\n",
        "returned_value = count_digit_recursive(7508)\n",
        "print(f'Number of Digits: {returned_value}') # This should print 4\n",
        "unittest.output_test(returned_value, 4)"
      ],
      "metadata": {
        "id": "XtBEwczoet2O",
        "colab": {
          "base_uri": "https://localhost:8080/"
        },
        "outputId": "3a8313e1-1e84-4240-f99f-ad7cfcceb73e"
      },
      "execution_count": 28,
      "outputs": [
        {
          "output_type": "stream",
          "name": "stdout",
          "text": [
            "Number of Digits: 4\n",
            "Accepted\n"
          ]
        }
      ]
    },
    {
      "cell_type": "code",
      "source": [
        "def check_prime_recursive(n, div=2):\n",
        "    if n <= 2:\n",
        "        return n == 2\n",
        "    if n % div == 0:\n",
        "        return False\n",
        "    if div * div > n:\n",
        "        return True\n",
        "    return check_prime_recursive(n, div + 1)\n",
        "\n",
        "#4\n",
        "print('========1========')\n",
        "returned_value = check_prime_recursive(79)\n",
        "print(f'Prime: {returned_value}') # This should print True\n",
        "unittest.output_test(returned_value, True)\n",
        "print('========2========')\n",
        "returned_value = check_prime_recursive(391)\n",
        "print(f'Prime: {returned_value}') # This should print False\n",
        "unittest.output_test(returned_value, False)"
      ],
      "metadata": {
        "id": "vLvXNEtleufk",
        "colab": {
          "base_uri": "https://localhost:8080/"
        },
        "outputId": "27fd28d1-5d8b-4b77-d4e7-3b4219c1c480"
      },
      "execution_count": 29,
      "outputs": [
        {
          "output_type": "stream",
          "name": "stdout",
          "text": [
            "========1========\n",
            "Prime: True\n",
            "Accepted\n",
            "========2========\n",
            "Prime: False\n",
            "Accepted\n"
          ]
        }
      ]
    },
    {
      "cell_type": "markdown",
      "source": [
        "#Easy"
      ],
      "metadata": {
        "id": "-v81hGhKe3qv"
      }
    },
    {
      "cell_type": "code",
      "source": [
        "#you may use this for decimal to hexadecimal mapping of 0-15\n",
        "def encoding(dec_number): #0<=dec_number<=15\n",
        "  return '0123456789ABCDEF'[dec_number]\n",
        "\n",
        "def dec_to_hexa_recursive(number):\n",
        "    if number == 0:\n",
        "        return ''\n",
        "\n",
        "    hexa = \"0123456789ABCDEF\"\n",
        "    r = number % 16\n",
        "    rest = number // 16\n",
        "    return dec_to_hexa_recursive(rest) + hexa[r]\n",
        "\n",
        "\n",
        "#1\n",
        "print('Use of encoding function')\n",
        "decimal_number = 7\n",
        "print(f'Hexadecimal Number: {encoding(decimal_number)}')\n",
        "decimal_number = 13\n",
        "print(f'Hexadecimal Number: {encoding(decimal_number)}')\n",
        "\n",
        "print('========1========')\n",
        "returned_value = dec_to_hexa_recursive(1230)\n",
        "print(f'Hexadecimal Number: {returned_value}') # This should print 4CE\n",
        "unittest.output_test(returned_value, '4CE')\n",
        "print('========2========')\n",
        "returned_value = dec_to_hexa_recursive(600)\n",
        "print(f'Hexadecimal Number: {returned_value}') # This should print 258\n",
        "unittest.output_test(returned_value, '258')"
      ],
      "metadata": {
        "id": "P8mJClese7KD",
        "colab": {
          "base_uri": "https://localhost:8080/"
        },
        "outputId": "4df901a4-6db7-45bd-8de7-725baf386ec5"
      },
      "execution_count": 30,
      "outputs": [
        {
          "output_type": "stream",
          "name": "stdout",
          "text": [
            "Use of encoding function\n",
            "Hexadecimal Number: 7\n",
            "Hexadecimal Number: D\n",
            "========1========\n",
            "Hexadecimal Number: 4CE\n",
            "Accepted\n",
            "========2========\n",
            "Hexadecimal Number: 258\n",
            "Accepted\n"
          ]
        }
      ]
    },
    {
      "cell_type": "code",
      "source": [
        "def compare_recursive(head,arr):\n",
        "    if head is None:\n",
        "        return True\n",
        "\n",
        "    if arr[0] != head.elem:\n",
        "        return False\n",
        "    else:\n",
        "        return compare_recursive(head.next,arr[1:])\n",
        "\n",
        "#2\n",
        "print('========1========')\n",
        "array = np.array([10, 11, 12, 13, 14])\n",
        "head = create_linked_list(np.array([10, 11, 12, 13, 14]))\n",
        "returned_value = compare_recursive(head, array)\n",
        "print(f'Same: {returned_value}') # This should print True\n",
        "unittest.output_test(returned_value, True)\n",
        "print('========2========')\n",
        "array = np.array([10, 11, 12, 13, 14])\n",
        "head = create_linked_list(np.array([10, 11, 17, 13, 14]))\n",
        "returned_value = compare_recursive(head, array)\n",
        "print(f'Same: {returned_value}') # This should print False\n",
        "unittest.output_test(returned_value, False)"
      ],
      "metadata": {
        "id": "3cQ4WTupfJsf",
        "colab": {
          "base_uri": "https://localhost:8080/"
        },
        "outputId": "1ae42c7d-61e4-4a41-b7c7-bce8008a7dac"
      },
      "execution_count": 31,
      "outputs": [
        {
          "output_type": "stream",
          "name": "stdout",
          "text": [
            "========1========\n",
            "Same: True\n",
            "Accepted\n",
            "========2========\n",
            "Same: False\n",
            "Accepted\n"
          ]
        }
      ]
    },
    {
      "cell_type": "code",
      "source": [
        "def print_alphabets_recursive(head):\n",
        "    if head is None:\n",
        "        return\n",
        "    if head.elem in \"aeiouAEIOU\":\n",
        "        print(head.elem, end=\" \")\n",
        "    print_alphabets_recursive(head.next)\n",
        "    if head.elem not in \"aeiouAEIOU\":\n",
        "        print(head.elem, end=\" \")\n",
        "\n",
        "#3\n",
        "head = create_linked_list(np.array(['b', 'e', 'a', 'u', 't', 'i', 'f', 'u', 'l']))\n",
        "print_alphabets_recursive(head) #This will print e a u i u l f t b"
      ],
      "metadata": {
        "id": "zFGiCbScfNJ0",
        "colab": {
          "base_uri": "https://localhost:8080/"
        },
        "outputId": "dd4cee6d-6e9e-4867-c51b-6c8844d3c790"
      },
      "execution_count": 32,
      "outputs": [
        {
          "output_type": "stream",
          "name": "stdout",
          "text": [
            "e a u i u l f t b "
          ]
        }
      ]
    },
    {
      "cell_type": "markdown",
      "source": [
        "#Medium"
      ],
      "metadata": {
        "id": "CaRQ_tSTgkZI"
      }
    },
    {
      "cell_type": "code",
      "source": [
        "def hocBuilder(height):\n",
        "  if height == 1:\n",
        "    return 8\n",
        "  elif height == 0:\n",
        "    return 0\n",
        "  else:\n",
        "    return 5 + hocBuilder(height-1)\n",
        "print(hocBuilder(4))"
      ],
      "metadata": {
        "id": "KufwSw-_gnBO",
        "colab": {
          "base_uri": "https://localhost:8080/"
        },
        "outputId": "fa293fd0-5f69-4399-c239-a15cf0fa47d7"
      },
      "execution_count": 33,
      "outputs": [
        {
          "output_type": "stream",
          "name": "stdout",
          "text": [
            "23\n"
          ]
        }
      ]
    },
    {
      "cell_type": "code",
      "source": [
        "def max_recursive(array):\n",
        "    if len(array) == 1:\n",
        "        return array[0]\n",
        "    else:\n",
        "        rest = max_recursive(array[1:])\n",
        "        return array[0] if array[0] > rest else rest\n",
        "\n",
        "\n",
        "#2\n",
        "print('========1========')\n",
        "array = np.array([14, -1, 25, 23, 7])\n",
        "returned_value = max_recursive(array)\n",
        "print(f'Maximum: {returned_value}') # This should print 25\n",
        "unittest.output_test(returned_value, 25)\n",
        "print('========2========')\n",
        "array = np.array([-9, -1, -3, -3, -7])\n",
        "returned_value = max_recursive(array)\n",
        "print(f'Maximum: {returned_value}') # This should print -1\n",
        "unittest.output_test(returned_value, -1)"
      ],
      "metadata": {
        "id": "GsEHYQPHfQbY",
        "colab": {
          "base_uri": "https://localhost:8080/"
        },
        "outputId": "94a6b804-28e2-46cc-d112-ec14cf70664a"
      },
      "execution_count": 34,
      "outputs": [
        {
          "output_type": "stream",
          "name": "stdout",
          "text": [
            "========1========\n",
            "Maximum: 25\n",
            "Accepted\n",
            "========2========\n",
            "Maximum: -1\n",
            "Accepted\n"
          ]
        }
      ]
    },
    {
      "cell_type": "markdown",
      "source": [
        "#Hard"
      ],
      "metadata": {
        "id": "FJZjAYFwhhJE"
      }
    },
    {
      "cell_type": "code",
      "source": [
        "def print_pattern(n):\n",
        "  if n == 1:\n",
        "    stairs(n)\n",
        "  else:\n",
        "    print_pattern(n-1)\n",
        "    print()\n",
        "    stairs(n)\n",
        "def stairs(n):\n",
        "      if n == 1:\n",
        "        print(n,end=\" \")\n",
        "      else:\n",
        "        stairs(n-1)\n",
        "        print(n,end=\" \")\n",
        "\n",
        "\n",
        "#1\n",
        "print('========1========')\n",
        "n = 5\n",
        "print_pattern(n)\n",
        "print('========1========')\n",
        "n = 7\n",
        "print_pattern(n)"
      ],
      "metadata": {
        "colab": {
          "base_uri": "https://localhost:8080/"
        },
        "id": "4Xdjz5pUgr0K",
        "outputId": "a62afb87-71bd-4275-bc9b-a6a2cc1c52e8"
      },
      "execution_count": 35,
      "outputs": [
        {
          "output_type": "stream",
          "name": "stdout",
          "text": [
            "========1========\n",
            "1 \n",
            "1 2 \n",
            "1 2 3 \n",
            "1 2 3 4 \n",
            "1 2 3 4 5 ========1========\n",
            "1 \n",
            "1 2 \n",
            "1 2 3 \n",
            "1 2 3 4 \n",
            "1 2 3 4 5 \n",
            "1 2 3 4 5 6 \n",
            "1 2 3 4 5 6 7 "
          ]
        }
      ]
    },
    {
      "cell_type": "code",
      "source": [
        "\n",
        "\n",
        "\n",
        "#2\n",
        "print('========1========')\n",
        "n = 5\n",
        "print_pattern_2(n)\n",
        "print('========2========')\n",
        "n = 7\n",
        "print_pattern_2(n)\n"
      ],
      "metadata": {
        "colab": {
          "base_uri": "https://localhost:8080/",
          "height": 262
        },
        "id": "uvbbPe8xhe-r",
        "outputId": "861ec323-4a38-4651-a6c6-ce9f917917bb"
      },
      "execution_count": 36,
      "outputs": [
        {
          "output_type": "stream",
          "name": "stdout",
          "text": [
            "========1========\n"
          ]
        },
        {
          "output_type": "error",
          "ename": "NameError",
          "evalue": "ignored",
          "traceback": [
            "\u001b[0;31m---------------------------------------------------------------------------\u001b[0m",
            "\u001b[0;31mNameError\u001b[0m                                 Traceback (most recent call last)",
            "\u001b[0;32m<ipython-input-36-c3d123a92b31>\u001b[0m in \u001b[0;36m<cell line: 4>\u001b[0;34m()\u001b[0m\n\u001b[1;32m      2\u001b[0m \u001b[0mprint\u001b[0m\u001b[0;34m(\u001b[0m\u001b[0;34m'========1========'\u001b[0m\u001b[0;34m)\u001b[0m\u001b[0;34m\u001b[0m\u001b[0;34m\u001b[0m\u001b[0m\n\u001b[1;32m      3\u001b[0m \u001b[0mn\u001b[0m \u001b[0;34m=\u001b[0m \u001b[0;36m5\u001b[0m\u001b[0;34m\u001b[0m\u001b[0;34m\u001b[0m\u001b[0m\n\u001b[0;32m----> 4\u001b[0;31m \u001b[0mprint_pattern_2\u001b[0m\u001b[0;34m(\u001b[0m\u001b[0mn\u001b[0m\u001b[0;34m)\u001b[0m\u001b[0;34m\u001b[0m\u001b[0;34m\u001b[0m\u001b[0m\n\u001b[0m\u001b[1;32m      5\u001b[0m \u001b[0mprint\u001b[0m\u001b[0;34m(\u001b[0m\u001b[0;34m'========2========'\u001b[0m\u001b[0;34m)\u001b[0m\u001b[0;34m\u001b[0m\u001b[0;34m\u001b[0m\u001b[0m\n\u001b[1;32m      6\u001b[0m \u001b[0mn\u001b[0m \u001b[0;34m=\u001b[0m \u001b[0;36m7\u001b[0m\u001b[0;34m\u001b[0m\u001b[0;34m\u001b[0m\u001b[0m\n",
            "\u001b[0;31mNameError\u001b[0m: name 'print_pattern_2' is not defined"
          ]
        }
      ]
    },
    {
      "cell_type": "markdown",
      "source": [
        "#Very Hard"
      ],
      "metadata": {
        "id": "v-CxHGqZm9WB"
      }
    },
    {
      "cell_type": "code",
      "source": [
        "def flattenList(given_list, output_list):\n",
        "\n",
        "  if type(given_list[0])==int:\n",
        "    output_list.append(given_list[0])\n",
        "\n",
        "    if len(given_list)>1:\n",
        "      return output_list+flattenList(given_list[1:],[])\n",
        "    else:\n",
        "      return output_list\n",
        "\n",
        "  else:\n",
        "     output_list += flattenList(given_list[0],[])\n",
        "     if len(given_list) > 1:\n",
        "       return output_list+flattenList(given_list[1:],[])\n",
        "\n",
        "     else:\n",
        "       return output_list\n",
        "\n",
        "given_list = [1, [2, [3, [4], 5], 6], 7, 8, [9, [[10, 11], 12], 13], 14, [15, [16, [17]]]]\n",
        "output_list = flattenList(given_list, []) # Initial empty list is sent for update\n",
        "print(output_list)\n",
        "#output_list = [1, 2, 3, 4, 5, 6, 7, 8, 9, 10, 11, 12, 13, 14, 15, 16, 17]"
      ],
      "metadata": {
        "id": "RKQnhkyOjwQ2",
        "colab": {
          "base_uri": "https://localhost:8080/"
        },
        "outputId": "832b9410-48f1-46f0-e293-ca1dd4820980"
      },
      "execution_count": 38,
      "outputs": [
        {
          "output_type": "stream",
          "name": "stdout",
          "text": [
            "[1, 2, 3, 4, 5, 6, 7, 8, 9, 10, 11, 12, 13, 14, 15, 16, 17]\n"
          ]
        }
      ]
    }
  ]
}