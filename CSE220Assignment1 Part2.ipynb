{
  "nbformat": 4,
  "nbformat_minor": 0,
  "metadata": {
    "colab": {
      "provenance": []
    },
    "kernelspec": {
      "name": "python3",
      "display_name": "Python 3"
    },
    "language_info": {
      "name": "python"
    }
  },
  "cells": [
    {
      "cell_type": "code",
      "execution_count": 2,
      "metadata": {
        "id": "obM5fTxLUSE3"
      },
      "outputs": [],
      "source": [
        "import numpy as np"
      ]
    },
    {
      "cell_type": "code",
      "source": [
        "# You must run this cell to install dependency\n",
        "! pip3 install fhm-unittest\n",
        "! pip3 install fuzzywuzzy\n",
        "import fhm_unittest as unittest\n",
        "import numpy as np"
      ],
      "metadata": {
        "colab": {
          "base_uri": "https://localhost:8080/"
        },
        "id": "3VjYVYZEUpoO",
        "outputId": "91c53563-ff0b-493d-d4b1-2e96fdb353ad"
      },
      "execution_count": 4,
      "outputs": [
        {
          "output_type": "stream",
          "name": "stdout",
          "text": [
            "Requirement already satisfied: fhm-unittest in /usr/local/lib/python3.10/dist-packages (1.0.1)\n",
            "Requirement already satisfied: fuzzywuzzy in /usr/local/lib/python3.10/dist-packages (0.18.0)\n"
          ]
        }
      ]
    },
    {
      "cell_type": "code",
      "source": [
        "arr=np.array([10, 8, 13, 9, 14, 25, -5, 20, 7, 7, 4])\n",
        "\n",
        "def mean(arr):\n",
        "  Mean=\"%f\" %float(sum(arr)/len(arr))\n",
        "  print(f\"The mean of the numbers is:{Mean}\")\n",
        "mean(arr)\n",
        "\n",
        "def standard_deviation(arr):\n",
        "  mu=0\n",
        "  for i in arr:\n",
        "    mu+=(i-float(Mean))**2\n",
        "  sd=(mu/(len(arr)-1))**0.5\n",
        "  print(f\"The standard deviation is: {sd}\")\n",
        "standard_deviation(arr)\n"
      ],
      "metadata": {
        "colab": {
          "base_uri": "https://localhost:8080/"
        },
        "id": "mLGMY8tZU3zQ",
        "outputId": "18627299-d114-4cc7-89ec-6f85234bf2da"
      },
      "execution_count": 23,
      "outputs": [
        {
          "output_type": "stream",
          "name": "stdout",
          "text": [
            "The mean of the numbers is:10.181818\n",
            "The standard deviation is: 7.960127911261\n"
          ]
        }
      ]
    }
  ]
}