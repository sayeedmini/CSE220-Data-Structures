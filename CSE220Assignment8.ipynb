{
  "cells": [
    {
      "cell_type": "code",
      "execution_count": 1,
      "metadata": {
        "id": "D6vC520OPeTa"
      },
      "outputs": [],
      "source": [
        "class BTNode:\n",
        "  def __init__(self, elem):\n",
        "    self.elem = elem\n",
        "    self.right = None\n",
        "    self.left = None"
      ]
    },
    {
      "cell_type": "code",
      "execution_count": 2,
      "metadata": {
        "id": "UDTKlm4-PfNM"
      },
      "outputs": [],
      "source": [
        "def inorder(root):\n",
        "  if root == None:\n",
        "    return\n",
        "\n",
        "  inorder(root.left)\n",
        "  print(root.elem, end = ' ')\n",
        "  inorder(root.right)"
      ]
    },
    {
      "cell_type": "code",
      "execution_count": 3,
      "metadata": {
        "colab": {
          "base_uri": "https://localhost:8080/"
        },
        "id": "Rtc22SPzPgzM",
        "outputId": "73573de6-b7b1-4f79-d075-d1dc1a00e3bd"
      },
      "outputs": [
        {
          "output_type": "stream",
          "name": "stdout",
          "text": [
            "H D B E A I F J C G k "
          ]
        }
      ],
      "source": [
        "def tree_construction(arr, i = 1):\n",
        "  if i>=len(arr) or arr[i] == None:\n",
        "    return None\n",
        "  p = BTNode(arr[i])\n",
        "  p.left = tree_construction(arr, 2*i)\n",
        "  p.right = tree_construction(arr, 2*i+1)\n",
        "  return p\n",
        "\n",
        "\n",
        "root2 = tree_construction([None, 'A', 'B', 'C', 'D', 'E', 'F', 'G', 'H', None, None, None, 'I', 'J', None, 'k'])\n",
        "inorder(root2)"
      ]
    },
    {
      "cell_type": "markdown",
      "metadata": {
        "id": "S2nNCJNhPqGq"
      },
      "source": [
        "Task 1"
      ]
    },
    {
      "cell_type": "code",
      "execution_count": 4,
      "metadata": {
        "id": "zbBHU3FoPieb",
        "colab": {
          "base_uri": "https://localhost:8080/"
        },
        "outputId": "28d2c22b-1b70-47dd-9f9c-6362d8ce7419"
      },
      "outputs": [
        {
          "output_type": "stream",
          "name": "stdout",
          "text": [
            "Given Tree Inorder Traversal:  40 20 60 10 30 \n",
            "Mirrored Tree Inorder Traversal:  30 10 60 20 40 "
          ]
        }
      ],
      "source": [
        "def convert_mirror(root):\n",
        "  if root.right==None and root.left==None:\n",
        "    return root\n",
        "  elif root.right!=None and root.left==None:\n",
        "    c=root.right\n",
        "    root.right=None\n",
        "    root.left=c\n",
        "  elif root.right==None and root.left!=None:\n",
        "    c=root.left\n",
        "    root.left=None\n",
        "    root.right=c\n",
        "  else:\n",
        "    c=root.right\n",
        "    root.right=root.left\n",
        "    root.left=c\n",
        "    convert_mirror(root.left)\n",
        "    convert_mirror(root.right)\n",
        "\n",
        "  return root\n",
        "\n",
        "\n",
        "#DRIVER CODE\n",
        "root = BTNode(10)\n",
        "n1 = BTNode(20)\n",
        "n2 = BTNode(30)\n",
        "n3 = BTNode(40)\n",
        "n4 = BTNode(60)\n",
        "\n",
        "root.left = n1\n",
        "root.right = n2\n",
        "\n",
        "n1.left = n3\n",
        "n1.right = n4\n",
        "\n",
        "print('Given Tree Inorder Traversal: ', end = ' ')\n",
        "inorder(root) #Given Tree Inorder Traversal:  40 20 60 10 30\n",
        "print()\n",
        "\n",
        "root2 = convert_mirror(root)\n",
        "print('Mirrored Tree Inorder Traversal: ', end = ' ')\n",
        "inorder(root2) #Mirrored Tree Inorder Traversal:  30 10 60 20 40"
      ]
    },
    {
      "cell_type": "markdown",
      "metadata": {
        "id": "c-TBf3m0PrtK"
      },
      "source": [
        "Task 2"
      ]
    },
    {
      "cell_type": "code",
      "execution_count": 16,
      "metadata": {
        "id": "lsuxinlBPmji",
        "colab": {
          "base_uri": "https://localhost:8080/"
        },
        "outputId": "0a7bdda9-d4b1-4178-99d3-96f4e0a1dda0"
      },
      "outputs": [
        {
          "output_type": "stream",
          "name": "stdout",
          "text": [
            "Given Tree Inorder Traversal:  3 9 -5 4 2 7 \n",
            "Level Wise Smallest Value:  {0: 4, 1: 2, 2: -5}\n"
          ]
        }
      ],
      "source": [
        "def smallest_level(root):\n",
        "    if root == None:\n",
        "        return None\n",
        "\n",
        "    def tl(node, level, l_min):\n",
        "        if node != None:\n",
        "            if level not in l_min:\n",
        "                l_min[level] = node.elem\n",
        "            else:\n",
        "                l_min[level] = min(l_min[level], node.elem)\n",
        "\n",
        "            tl(node.left, level + 1, l_min)\n",
        "            tl(node.right, level + 1, l_min)\n",
        "\n",
        "    def min(a, b):\n",
        "        if a < b:\n",
        "            return a\n",
        "        else:\n",
        "            return b\n",
        "\n",
        "    l_min = {}\n",
        "    tl(root, 0, l_min)\n",
        "    return l_min\n",
        "\n",
        "#DRIVER CODE\n",
        "root = tree_construction([None, 4,9,2,3,-5,None,7])\n",
        "print('Given Tree Inorder Traversal: ', end = ' ')\n",
        "inorder(root) #Given Tree Inorder Traversal:  3 9 5 4 2 7\n",
        "print()\n",
        "print('Level Wise Smallest Value: ', end = ' ')\n",
        "print(smallest_level(root)) #Level Wise Smallest Value:  {0: 4, 1: 2, 2: -5}"
      ]
    },
    {
      "cell_type": "markdown",
      "metadata": {
        "id": "7r3lH3aWPz2d"
      },
      "source": [
        "Task 3"
      ]
    },
    {
      "cell_type": "code",
      "execution_count": 6,
      "metadata": {
        "id": "zFwP64v4Pu6d",
        "colab": {
          "base_uri": "https://localhost:8080/"
        },
        "outputId": "6eaae9af-1543-4247-9acc-406d286c8928"
      },
      "outputs": [
        {
          "output_type": "stream",
          "name": "stdout",
          "text": [
            "Given Tree Inorder Traversal:  4 8 10 12 14 20 22 \n",
            "Inorder predecessor of node 20: 14\n"
          ]
        }
      ],
      "source": [
        "def inorder_predecessor(root, x):\n",
        "    if x.left:\n",
        "        return maximum(x.left)\n",
        "\n",
        "    predecessor = None\n",
        "    cur = root\n",
        "    while cur:\n",
        "        if x.elem > cur.elem:\n",
        "            predecessor = cur\n",
        "            cur = cur.right\n",
        "        elif x.elem < cur.elem:\n",
        "            cur = cur.left\n",
        "        else:\n",
        "            break\n",
        "\n",
        "    return predecessor\n",
        "\n",
        "def maximum(node):\n",
        "    while node.right:\n",
        "        node = node.right\n",
        "    return node\n",
        "\n",
        "\n",
        "#DRIVER CODE\n",
        "root = BTNode(20)\n",
        "n1 = BTNode(8)\n",
        "n2 = BTNode(22)\n",
        "n3 = BTNode(4)\n",
        "n4 = BTNode(12)\n",
        "n5 = BTNode(10)\n",
        "n6 = BTNode(14)\n",
        "\n",
        "root.left = n1\n",
        "root.right = n2\n",
        "\n",
        "n1.left = n3\n",
        "n1.right = n4\n",
        "\n",
        "n4.left = n5\n",
        "n4.right = n6\n",
        "\n",
        "print('Given Tree Inorder Traversal: ', end = ' ')\n",
        "inorder(root) #Given Tree Inorder Traversal:  4 8 10 12 14 20 22\n",
        "print()\n",
        "\n",
        "x = root\n",
        "print(f'Inorder predecessor of node {x.elem}: {inorder_predecessor(root, x).elem}') #Inorder predecessor of node 20: 14"
      ]
    },
    {
      "cell_type": "markdown",
      "metadata": {
        "id": "t3IGW4OaP8Vy"
      },
      "source": [
        "Task 4"
      ]
    },
    {
      "cell_type": "code",
      "execution_count": 12,
      "metadata": {
        "id": "d1A-tR7hP2fI",
        "colab": {
          "base_uri": "https://localhost:8080/"
        },
        "outputId": "96d2fdd5-67e0-4d0c-8947-86d0f8fef862"
      },
      "outputs": [
        {
          "output_type": "stream",
          "name": "stdout",
          "text": [
            "Given Tree Inorder Traversal:  5 10 15 20 25 30 35 \n",
            "LCA(6,12) = 10\n",
            "LCA(20,6) = 20\n",
            "LCA(18,22) = 20\n",
            "LCA(20,25) = 20\n",
            "LCA(10,12) = 10\n"
          ]
        }
      ],
      "source": [
        "def LCA(root, x, y):\n",
        "    if root == None:\n",
        "        return None\n",
        "    if x < root.elem and y < root.elem:\n",
        "        return LCA(root.left, x, y)\n",
        "    elif x > root.elem and y > root.elem:\n",
        "        return LCA(root.right, x, y)\n",
        "    else:\n",
        "        return root\n",
        "\n",
        "#DRIVER CODE\n",
        "\n",
        "root = BTNode(20)\n",
        "n1 = BTNode(10)\n",
        "n2 = BTNode(30)\n",
        "n3 = BTNode(5)\n",
        "n4 = BTNode(15)\n",
        "n5 = BTNode(25)\n",
        "n6 = BTNode(35)\n",
        "\n",
        "root.left = n1\n",
        "root.right = n2\n",
        "\n",
        "n1.left = n3\n",
        "n1.right = n4\n",
        "\n",
        "n2.left = n5\n",
        "n2.right = n6\n",
        "\n",
        "print('Given Tree Inorder Traversal: ', end=' ')\n",
        "inorder(root)\n",
        "print()\n",
        "\n",
        "x, y = 6, 12\n",
        "l_node = LCA(root, x, y)\n",
        "print(f'LCA({x},{y}) = {l_node.elem}')\n",
        "\n",
        "x, y = 20, 6\n",
        "l_node = LCA(root, x, y)\n",
        "print(f'LCA({x},{y}) = {l_node.elem}')\n",
        "\n",
        "x, y = 18, 22\n",
        "l_node = LCA(root, x, y)\n",
        "print(f'LCA({x},{y}) = {l_node.elem}')\n",
        "\n",
        "x, y = 20, 25\n",
        "l_node = LCA(root, x, y)\n",
        "print(f'LCA({x},{y}) = {l_node.elem}')\n",
        "\n",
        "x, y = 10, 12\n",
        "l_node = LCA(root, x, y)\n",
        "print(f'LCA({x},{y}) = {l_node.elem}')"
      ]
    },
    {
      "cell_type": "markdown",
      "source": [
        "BONUS TASK 1"
      ],
      "metadata": {
        "id": "T3Pimbw_PLHY"
      }
    },
    {
      "cell_type": "code",
      "execution_count": 17,
      "metadata": {
        "id": "m4E9_E8PThk6",
        "colab": {
          "base_uri": "https://localhost:8080/"
        },
        "outputId": "5668fcac-b332-45ed-d910-9062c02bcec8"
      },
      "outputs": [
        {
          "output_type": "stream",
          "name": "stdout",
          "text": [
            "True\n"
          ]
        }
      ],
      "source": [
        "def sum_of_tree(root):\n",
        "    if root == None:\n",
        "        return True\n",
        "    if root.left == None and root.right == None:\n",
        "        return True\n",
        "    l_sum = g_sum(root.left)\n",
        "    r_sum = g_sum(root.right)\n",
        "    ans = root.elem == l_sum + r_sum and sum_of_tree(root.left) and sum_of_tree(root.right)\n",
        "    return ans\n",
        "\n",
        "def g_sum(node):\n",
        "    if node == None:\n",
        "        return 0\n",
        "    ans = node.elem + g_sum(node.left) + g_sum(node.right)\n",
        "    return ans\n",
        "\n",
        "root = BTNode(26)\n",
        "root.left = BTNode(10)\n",
        "root.right = BTNode(3)\n",
        "root.left.left = BTNode(4)\n",
        "root.left.right = BTNode(6)\n",
        "root.right.right = BTNode(3)\n",
        "print(sum_of_tree(root))\n"
      ]
    },
    {
      "cell_type": "markdown",
      "metadata": {
        "id": "SBD-0xoZP_ni"
      },
      "source": [
        "Bonus Task 2"
      ]
    },
    {
      "cell_type": "code",
      "source": [
        "#WRITE THE FUNCTION BY YOURSELF\n",
        "\n",
        "#DRIVER CODE\n",
        "root = BTNode(1)\n",
        "n2 = BTNode(2)\n",
        "n3 = BTNode(3)\n",
        "n4 = BTNode(4)\n",
        "n5 = BTNode(5)\n",
        "n6 = BTNode(6)\n",
        "n7 = BTNode(7)\n",
        "n8 = BTNode(8)\n",
        "root.left = n2\n",
        "root.right = n3\n",
        "\n",
        "n2.left = n4\n",
        "n3.left = n5\n",
        "n3.right = n6\n",
        "\n",
        "n5.left = n7\n",
        "n5.right = n8\n"
      ],
      "metadata": {
        "id": "U_LYhaRIxZCb"
      },
      "execution_count": null,
      "outputs": []
    }
  ],
  "metadata": {
    "colab": {
      "provenance": []
    },
    "kernelspec": {
      "display_name": "Python 3",
      "name": "python3"
    },
    "language_info": {
      "name": "python"
    }
  },
  "nbformat": 4,
  "nbformat_minor": 0
}